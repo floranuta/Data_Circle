{
  "nbformat": 4,
  "nbformat_minor": 0,
  "metadata": {
    "colab": {
      "provenance": [],
      "authorship_tag": "ABX9TyMZ6OQX4UolOiG6P77pe48B",
      "include_colab_link": true
    },
    "kernelspec": {
      "name": "python3",
      "display_name": "Python 3"
    },
    "language_info": {
      "name": "python"
    }
  },
  "cells": [
    {
      "cell_type": "markdown",
      "metadata": {
        "id": "view-in-github",
        "colab_type": "text"
      },
      "source": [
        "<a href=\"https://colab.research.google.com/github/floranuta/Data_Circle/blob/Tetiana/notebooks/Task13_GeospatialAnalysis.ipynb\" target=\"_parent\"><img src=\"https://colab.research.google.com/assets/colab-badge.svg\" alt=\"Open In Colab\"/></a>"
      ]
    },
    {
      "cell_type": "markdown",
      "source": [
        "#### Task 1.3: Geospatial Analysis\n",
        "- **Ticket 1.3.1**: Create maps of water pump locations colored by functionality status\n",
        "  - Use geopandas/folium to visualize pump locations on Tanzania map\n",
        "  - Analyze geographic clusters of functional/non-functional pumps\n",
        "  \n",
        "- **Ticket 1.3.2**: Analyze regional patterns in water pump functionality\n",
        "  - Create visualizations showing functionality rates by region/district\n",
        "  - Identify areas with unusually high failure rates\n",
        "  \n",
        "- **Ticket 1.3.3**: Investigate relationships between geography and other features\n",
        "  - Analyze how water source types vary by region\n",
        "  - Explore relationships between elevation (gps_height) and functionality\n",
        "  \n",
        "- **Ticket 1.3.4**: Create geospatial features\n",
        "  - Calculate distances to nearest city/population center if data available\n",
        "  - Generate region-level aggregated statistics\n"
      ],
      "metadata": {
        "id": "Ii2YibqFwOOd"
      }
    },
    {
      "cell_type": "code",
      "execution_count": 2,
      "metadata": {
        "id": "hmI42VsrvwMB"
      },
      "outputs": [],
      "source": [
        "import pandas as pd\n",
        "import numpy as np\n",
        "import matplotlib.pyplot as plt\n",
        "import geopandas as gpd"
      ]
    },
    {
      "cell_type": "code",
      "source": [
        "from google.colab import drive\n",
        "drive.mount('/content/drive')\n",
        "# Path of the file to read\n",
        "#csv_file_path = \"D:/REDI/Data_Circle/data/training_set_values.csv\"\n",
        "csv_file_path = \"/content/drive/MyDrive/Colab Notebooks/training_set_values.csv\"\n",
        "# Fill in the line below to read the file into a variable home_data\n",
        "pump_data = pd.read_csv(csv_file_path)"
      ],
      "metadata": {
        "colab": {
          "base_uri": "https://localhost:8080/"
        },
        "id": "KDyvmAK5weYF",
        "outputId": "67744efb-ce8e-4550-df40-426f8e9798f9"
      },
      "execution_count": 3,
      "outputs": [
        {
          "output_type": "stream",
          "name": "stdout",
          "text": [
            "Mounted at /content/drive\n"
          ]
        }
      ]
    },
    {
      "cell_type": "code",
      "source": [
        "pump_data_labels=pd.read_csv(\"/content/drive/MyDrive/Colab Notebooks/training_set_labels.csv\")"
      ],
      "metadata": {
        "id": "uAR3BRdw034g"
      },
      "execution_count": 4,
      "outputs": []
    },
    {
      "cell_type": "code",
      "source": [
        "mask_invalid = (\n",
        "    (pump_data[\"latitude\"].isna()) |\n",
        "    (pump_data[\"longitude\"].isna()) |\n",
        "    (pump_data[\"latitude\"] < -12) |\n",
        "    (pump_data[\"latitude\"] > 0) |\n",
        "    (pump_data[\"longitude\"] < 29) |\n",
        "    (pump_data[\"longitude\"] > 41)\n",
        ")\n",
        "\n",
        "invalid_rows = pump_data[mask_invalid]\n",
        "print(f\"Number of invalid rows: {len(invalid_rows)}\")\n",
        "pump_data.drop(invalid_rows.index, inplace=True)\n",
        "print(f\"After deletion: {len(pump_data)} rows remain\")\n",
        "\n",
        "cols_to_drop = [\"wpt_name\",\"waterpoint_type_group\", \"source_class\", \"source\",\"quantity_group\", \"quality_group\", \"payment_type\",\"management_group\", \"extraction_type_group\", \"extraction_type_class\",\"scheme_name\", \"recorded_by\", \"public_meeting\",\"num_private\", \"date_recorded\",\"scheme_name\"]\n",
        "pump_data.drop(columns=cols_to_drop, inplace=True)\n",
        "pump_data_merged = pd.merge(pump_data, pump_data_labels, on=\"id\", how=\"left\")"
      ],
      "metadata": {
        "colab": {
          "base_uri": "https://localhost:8080/"
        },
        "id": "jt27qrjuZwK5",
        "outputId": "05096fa7-7e4e-49f8-e2d0-2cee255c2dff"
      },
      "execution_count": 5,
      "outputs": [
        {
          "output_type": "stream",
          "name": "stdout",
          "text": [
            "Number of invalid rows: 1812\n",
            "After deletion: 57588 rows remain\n"
          ]
        }
      ]
    },
    {
      "cell_type": "code",
      "source": [
        "mask_nan = pump_data[\"latitude\"].isna() | pump_data[\"longitude\"].isna()\n",
        "nan_rows = pump_data[mask_nan]\n",
        "\n",
        "print(\"Rows with NaN latitude or longitude:\", len(nan_rows))\n",
        "display(nan_rows.head())"
      ],
      "metadata": {
        "colab": {
          "base_uri": "https://localhost:8080/",
          "height": 116
        },
        "id": "qP0ecJrT1M1E",
        "outputId": "4299524e-9164-4359-d84f-77665272fca9"
      },
      "execution_count": 6,
      "outputs": [
        {
          "output_type": "stream",
          "name": "stdout",
          "text": [
            "Rows with NaN latitude or longitude: 0\n"
          ]
        },
        {
          "output_type": "display_data",
          "data": {
            "text/plain": [
              "Empty DataFrame\n",
              "Columns: [id, amount_tsh, funder, gps_height, installer, longitude, latitude, basin, subvillage, region, region_code, district_code, lga, ward, population, scheme_management, permit, construction_year, extraction_type, management, payment, water_quality, quantity, source_type, waterpoint_type]\n",
              "Index: []\n",
              "\n",
              "[0 rows x 25 columns]"
            ],
            "text/html": [
              "\n",
              "  <div id=\"df-4af1dd36-0245-4d21-9a04-174093983801\" class=\"colab-df-container\">\n",
              "    <div>\n",
              "<style scoped>\n",
              "    .dataframe tbody tr th:only-of-type {\n",
              "        vertical-align: middle;\n",
              "    }\n",
              "\n",
              "    .dataframe tbody tr th {\n",
              "        vertical-align: top;\n",
              "    }\n",
              "\n",
              "    .dataframe thead th {\n",
              "        text-align: right;\n",
              "    }\n",
              "</style>\n",
              "<table border=\"1\" class=\"dataframe\">\n",
              "  <thead>\n",
              "    <tr style=\"text-align: right;\">\n",
              "      <th></th>\n",
              "      <th>id</th>\n",
              "      <th>amount_tsh</th>\n",
              "      <th>funder</th>\n",
              "      <th>gps_height</th>\n",
              "      <th>installer</th>\n",
              "      <th>longitude</th>\n",
              "      <th>latitude</th>\n",
              "      <th>basin</th>\n",
              "      <th>subvillage</th>\n",
              "      <th>region</th>\n",
              "      <th>...</th>\n",
              "      <th>scheme_management</th>\n",
              "      <th>permit</th>\n",
              "      <th>construction_year</th>\n",
              "      <th>extraction_type</th>\n",
              "      <th>management</th>\n",
              "      <th>payment</th>\n",
              "      <th>water_quality</th>\n",
              "      <th>quantity</th>\n",
              "      <th>source_type</th>\n",
              "      <th>waterpoint_type</th>\n",
              "    </tr>\n",
              "  </thead>\n",
              "  <tbody>\n",
              "  </tbody>\n",
              "</table>\n",
              "<p>0 rows × 25 columns</p>\n",
              "</div>\n",
              "    <div class=\"colab-df-buttons\">\n",
              "\n",
              "  <div class=\"colab-df-container\">\n",
              "    <button class=\"colab-df-convert\" onclick=\"convertToInteractive('df-4af1dd36-0245-4d21-9a04-174093983801')\"\n",
              "            title=\"Convert this dataframe to an interactive table.\"\n",
              "            style=\"display:none;\">\n",
              "\n",
              "  <svg xmlns=\"http://www.w3.org/2000/svg\" height=\"24px\" viewBox=\"0 -960 960 960\">\n",
              "    <path d=\"M120-120v-720h720v720H120Zm60-500h600v-160H180v160Zm220 220h160v-160H400v160Zm0 220h160v-160H400v160ZM180-400h160v-160H180v160Zm440 0h160v-160H620v160ZM180-180h160v-160H180v160Zm440 0h160v-160H620v160Z\"/>\n",
              "  </svg>\n",
              "    </button>\n",
              "\n",
              "  <style>\n",
              "    .colab-df-container {\n",
              "      display:flex;\n",
              "      gap: 12px;\n",
              "    }\n",
              "\n",
              "    .colab-df-convert {\n",
              "      background-color: #E8F0FE;\n",
              "      border: none;\n",
              "      border-radius: 50%;\n",
              "      cursor: pointer;\n",
              "      display: none;\n",
              "      fill: #1967D2;\n",
              "      height: 32px;\n",
              "      padding: 0 0 0 0;\n",
              "      width: 32px;\n",
              "    }\n",
              "\n",
              "    .colab-df-convert:hover {\n",
              "      background-color: #E2EBFA;\n",
              "      box-shadow: 0px 1px 2px rgba(60, 64, 67, 0.3), 0px 1px 3px 1px rgba(60, 64, 67, 0.15);\n",
              "      fill: #174EA6;\n",
              "    }\n",
              "\n",
              "    .colab-df-buttons div {\n",
              "      margin-bottom: 4px;\n",
              "    }\n",
              "\n",
              "    [theme=dark] .colab-df-convert {\n",
              "      background-color: #3B4455;\n",
              "      fill: #D2E3FC;\n",
              "    }\n",
              "\n",
              "    [theme=dark] .colab-df-convert:hover {\n",
              "      background-color: #434B5C;\n",
              "      box-shadow: 0px 1px 3px 1px rgba(0, 0, 0, 0.15);\n",
              "      filter: drop-shadow(0px 1px 2px rgba(0, 0, 0, 0.3));\n",
              "      fill: #FFFFFF;\n",
              "    }\n",
              "  </style>\n",
              "\n",
              "    <script>\n",
              "      const buttonEl =\n",
              "        document.querySelector('#df-4af1dd36-0245-4d21-9a04-174093983801 button.colab-df-convert');\n",
              "      buttonEl.style.display =\n",
              "        google.colab.kernel.accessAllowed ? 'block' : 'none';\n",
              "\n",
              "      async function convertToInteractive(key) {\n",
              "        const element = document.querySelector('#df-4af1dd36-0245-4d21-9a04-174093983801');\n",
              "        const dataTable =\n",
              "          await google.colab.kernel.invokeFunction('convertToInteractive',\n",
              "                                                    [key], {});\n",
              "        if (!dataTable) return;\n",
              "\n",
              "        const docLinkHtml = 'Like what you see? Visit the ' +\n",
              "          '<a target=\"_blank\" href=https://colab.research.google.com/notebooks/data_table.ipynb>data table notebook</a>'\n",
              "          + ' to learn more about interactive tables.';\n",
              "        element.innerHTML = '';\n",
              "        dataTable['output_type'] = 'display_data';\n",
              "        await google.colab.output.renderOutput(dataTable, element);\n",
              "        const docLink = document.createElement('div');\n",
              "        docLink.innerHTML = docLinkHtml;\n",
              "        element.appendChild(docLink);\n",
              "      }\n",
              "    </script>\n",
              "  </div>\n",
              "\n",
              "\n",
              "    </div>\n",
              "  </div>\n"
            ],
            "application/vnd.google.colaboratory.intrinsic+json": {
              "type": "dataframe"
            }
          },
          "metadata": {}
        }
      ]
    },
    {
      "cell_type": "code",
      "source": [
        "# Check how many rows have latitude=0 or longitude=0\n",
        "mask_zero = (pump_data[\"latitude\"] == 0) | (pump_data[\"longitude\"] == 0)\n",
        "zero_rows = pump_data[mask_zero]\n",
        "\n",
        "print(\"Rows with 0 latitude or longitude:\", len(zero_rows))\n",
        "display(zero_rows.head())"
      ],
      "metadata": {
        "colab": {
          "base_uri": "https://localhost:8080/",
          "height": 116
        },
        "id": "ty0_BolW0uIK",
        "outputId": "63c9e106-ff44-4578-dc4c-46ff0a2a166d"
      },
      "execution_count": 7,
      "outputs": [
        {
          "output_type": "stream",
          "name": "stdout",
          "text": [
            "Rows with 0 latitude or longitude: 0\n"
          ]
        },
        {
          "output_type": "display_data",
          "data": {
            "text/plain": [
              "Empty DataFrame\n",
              "Columns: [id, amount_tsh, funder, gps_height, installer, longitude, latitude, basin, subvillage, region, region_code, district_code, lga, ward, population, scheme_management, permit, construction_year, extraction_type, management, payment, water_quality, quantity, source_type, waterpoint_type]\n",
              "Index: []\n",
              "\n",
              "[0 rows x 25 columns]"
            ],
            "text/html": [
              "\n",
              "  <div id=\"df-05d31180-68bc-485a-89e5-97291e0152d1\" class=\"colab-df-container\">\n",
              "    <div>\n",
              "<style scoped>\n",
              "    .dataframe tbody tr th:only-of-type {\n",
              "        vertical-align: middle;\n",
              "    }\n",
              "\n",
              "    .dataframe tbody tr th {\n",
              "        vertical-align: top;\n",
              "    }\n",
              "\n",
              "    .dataframe thead th {\n",
              "        text-align: right;\n",
              "    }\n",
              "</style>\n",
              "<table border=\"1\" class=\"dataframe\">\n",
              "  <thead>\n",
              "    <tr style=\"text-align: right;\">\n",
              "      <th></th>\n",
              "      <th>id</th>\n",
              "      <th>amount_tsh</th>\n",
              "      <th>funder</th>\n",
              "      <th>gps_height</th>\n",
              "      <th>installer</th>\n",
              "      <th>longitude</th>\n",
              "      <th>latitude</th>\n",
              "      <th>basin</th>\n",
              "      <th>subvillage</th>\n",
              "      <th>region</th>\n",
              "      <th>...</th>\n",
              "      <th>scheme_management</th>\n",
              "      <th>permit</th>\n",
              "      <th>construction_year</th>\n",
              "      <th>extraction_type</th>\n",
              "      <th>management</th>\n",
              "      <th>payment</th>\n",
              "      <th>water_quality</th>\n",
              "      <th>quantity</th>\n",
              "      <th>source_type</th>\n",
              "      <th>waterpoint_type</th>\n",
              "    </tr>\n",
              "  </thead>\n",
              "  <tbody>\n",
              "  </tbody>\n",
              "</table>\n",
              "<p>0 rows × 25 columns</p>\n",
              "</div>\n",
              "    <div class=\"colab-df-buttons\">\n",
              "\n",
              "  <div class=\"colab-df-container\">\n",
              "    <button class=\"colab-df-convert\" onclick=\"convertToInteractive('df-05d31180-68bc-485a-89e5-97291e0152d1')\"\n",
              "            title=\"Convert this dataframe to an interactive table.\"\n",
              "            style=\"display:none;\">\n",
              "\n",
              "  <svg xmlns=\"http://www.w3.org/2000/svg\" height=\"24px\" viewBox=\"0 -960 960 960\">\n",
              "    <path d=\"M120-120v-720h720v720H120Zm60-500h600v-160H180v160Zm220 220h160v-160H400v160Zm0 220h160v-160H400v160ZM180-400h160v-160H180v160Zm440 0h160v-160H620v160ZM180-180h160v-160H180v160Zm440 0h160v-160H620v160Z\"/>\n",
              "  </svg>\n",
              "    </button>\n",
              "\n",
              "  <style>\n",
              "    .colab-df-container {\n",
              "      display:flex;\n",
              "      gap: 12px;\n",
              "    }\n",
              "\n",
              "    .colab-df-convert {\n",
              "      background-color: #E8F0FE;\n",
              "      border: none;\n",
              "      border-radius: 50%;\n",
              "      cursor: pointer;\n",
              "      display: none;\n",
              "      fill: #1967D2;\n",
              "      height: 32px;\n",
              "      padding: 0 0 0 0;\n",
              "      width: 32px;\n",
              "    }\n",
              "\n",
              "    .colab-df-convert:hover {\n",
              "      background-color: #E2EBFA;\n",
              "      box-shadow: 0px 1px 2px rgba(60, 64, 67, 0.3), 0px 1px 3px 1px rgba(60, 64, 67, 0.15);\n",
              "      fill: #174EA6;\n",
              "    }\n",
              "\n",
              "    .colab-df-buttons div {\n",
              "      margin-bottom: 4px;\n",
              "    }\n",
              "\n",
              "    [theme=dark] .colab-df-convert {\n",
              "      background-color: #3B4455;\n",
              "      fill: #D2E3FC;\n",
              "    }\n",
              "\n",
              "    [theme=dark] .colab-df-convert:hover {\n",
              "      background-color: #434B5C;\n",
              "      box-shadow: 0px 1px 3px 1px rgba(0, 0, 0, 0.15);\n",
              "      filter: drop-shadow(0px 1px 2px rgba(0, 0, 0, 0.3));\n",
              "      fill: #FFFFFF;\n",
              "    }\n",
              "  </style>\n",
              "\n",
              "    <script>\n",
              "      const buttonEl =\n",
              "        document.querySelector('#df-05d31180-68bc-485a-89e5-97291e0152d1 button.colab-df-convert');\n",
              "      buttonEl.style.display =\n",
              "        google.colab.kernel.accessAllowed ? 'block' : 'none';\n",
              "\n",
              "      async function convertToInteractive(key) {\n",
              "        const element = document.querySelector('#df-05d31180-68bc-485a-89e5-97291e0152d1');\n",
              "        const dataTable =\n",
              "          await google.colab.kernel.invokeFunction('convertToInteractive',\n",
              "                                                    [key], {});\n",
              "        if (!dataTable) return;\n",
              "\n",
              "        const docLinkHtml = 'Like what you see? Visit the ' +\n",
              "          '<a target=\"_blank\" href=https://colab.research.google.com/notebooks/data_table.ipynb>data table notebook</a>'\n",
              "          + ' to learn more about interactive tables.';\n",
              "        element.innerHTML = '';\n",
              "        dataTable['output_type'] = 'display_data';\n",
              "        await google.colab.output.renderOutput(dataTable, element);\n",
              "        const docLink = document.createElement('div');\n",
              "        docLink.innerHTML = docLinkHtml;\n",
              "        element.appendChild(docLink);\n",
              "      }\n",
              "    </script>\n",
              "  </div>\n",
              "\n",
              "\n",
              "    </div>\n",
              "  </div>\n"
            ],
            "application/vnd.google.colaboratory.intrinsic+json": {
              "type": "dataframe"
            }
          },
          "metadata": {}
        }
      ]
    },
    {
      "cell_type": "code",
      "source": [
        "# IDs in pump_data but not in pump_data_labels\n",
        "missing_ids = pump_data.loc[~pump_data[\"id\"].isin(pump_data_labels[\"id\"]), \"id\"]\n",
        "\n",
        "print(\"Number of pump_data IDs without label:\", len(missing_ids))\n",
        "print(missing_ids.head())"
      ],
      "metadata": {
        "colab": {
          "base_uri": "https://localhost:8080/"
        },
        "id": "ETfCbyHb4buc",
        "outputId": "64a539c9-af93-4f3e-bb9e-85113f01400c"
      },
      "execution_count": 8,
      "outputs": [
        {
          "output_type": "stream",
          "name": "stdout",
          "text": [
            "Number of pump_data IDs without label: 0\n",
            "Series([], Name: id, dtype: int64)\n"
          ]
        }
      ]
    },
    {
      "cell_type": "code",
      "source": [
        "pip install geopandas folium pandas"
      ],
      "metadata": {
        "colab": {
          "base_uri": "https://localhost:8080/"
        },
        "id": "BN5d29--aYDk",
        "outputId": "f05a3b1b-b160-4437-c811-640d5b00227b"
      },
      "execution_count": 9,
      "outputs": [
        {
          "output_type": "stream",
          "name": "stdout",
          "text": [
            "Requirement already satisfied: geopandas in /usr/local/lib/python3.12/dist-packages (1.1.1)\n",
            "Requirement already satisfied: folium in /usr/local/lib/python3.12/dist-packages (0.20.0)\n",
            "Requirement already satisfied: pandas in /usr/local/lib/python3.12/dist-packages (2.2.2)\n",
            "Requirement already satisfied: numpy>=1.24 in /usr/local/lib/python3.12/dist-packages (from geopandas) (2.0.2)\n",
            "Requirement already satisfied: pyogrio>=0.7.2 in /usr/local/lib/python3.12/dist-packages (from geopandas) (0.11.1)\n",
            "Requirement already satisfied: packaging in /usr/local/lib/python3.12/dist-packages (from geopandas) (25.0)\n",
            "Requirement already satisfied: pyproj>=3.5.0 in /usr/local/lib/python3.12/dist-packages (from geopandas) (3.7.2)\n",
            "Requirement already satisfied: shapely>=2.0.0 in /usr/local/lib/python3.12/dist-packages (from geopandas) (2.1.2)\n",
            "Requirement already satisfied: branca>=0.6.0 in /usr/local/lib/python3.12/dist-packages (from folium) (0.8.1)\n",
            "Requirement already satisfied: jinja2>=2.9 in /usr/local/lib/python3.12/dist-packages (from folium) (3.1.6)\n",
            "Requirement already satisfied: requests in /usr/local/lib/python3.12/dist-packages (from folium) (2.32.4)\n",
            "Requirement already satisfied: xyzservices in /usr/local/lib/python3.12/dist-packages (from folium) (2025.4.0)\n",
            "Requirement already satisfied: python-dateutil>=2.8.2 in /usr/local/lib/python3.12/dist-packages (from pandas) (2.9.0.post0)\n",
            "Requirement already satisfied: pytz>=2020.1 in /usr/local/lib/python3.12/dist-packages (from pandas) (2025.2)\n",
            "Requirement already satisfied: tzdata>=2022.7 in /usr/local/lib/python3.12/dist-packages (from pandas) (2025.2)\n",
            "Requirement already satisfied: MarkupSafe>=2.0 in /usr/local/lib/python3.12/dist-packages (from jinja2>=2.9->folium) (3.0.3)\n",
            "Requirement already satisfied: certifi in /usr/local/lib/python3.12/dist-packages (from pyogrio>=0.7.2->geopandas) (2025.8.3)\n",
            "Requirement already satisfied: six>=1.5 in /usr/local/lib/python3.12/dist-packages (from python-dateutil>=2.8.2->pandas) (1.17.0)\n",
            "Requirement already satisfied: charset_normalizer<4,>=2 in /usr/local/lib/python3.12/dist-packages (from requests->folium) (3.4.3)\n",
            "Requirement already satisfied: idna<4,>=2.5 in /usr/local/lib/python3.12/dist-packages (from requests->folium) (3.10)\n",
            "Requirement already satisfied: urllib3<3,>=1.21.1 in /usr/local/lib/python3.12/dist-packages (from requests->folium) (2.5.0)\n"
          ]
        }
      ]
    },
    {
      "cell_type": "code",
      "source": [
        "import pandas as pd\n",
        "import geopandas as gpd\n",
        "import folium\n",
        "tanzania = gpd.read_file(\"https://datahub.io/core/geo-countries/r/countries.geojson\")\n",
        "color_map = {\n",
        "    \"functional\": \"green\",\n",
        "    \"non functional\": \"red\",\n",
        "    \"needs repair\": \"yellow\",\n",
        "    \"need to be repaired\": \"yellow\"\n",
        "}\n",
        "center_lat = pump_data_merged [\"latitude\"].mean()\n",
        "center_lon = pump_data_merged [\"longitude\"].mean()\n",
        "m = folium.Map(location=[center_lat, center_lon], zoom_start=6, tiles=\"OpenStreetMap\")\n",
        "\n",
        "# 4) Добавляем точки\n",
        "for _, r in pump_data_merged .iterrows():\n",
        "    folium.CircleMarker(\n",
        "        location=[r[\"latitude\"], r[\"longitude\"]],\n",
        "        radius=2.5,\n",
        "        color=color_map.get(str(r[\"status_group\"]).lower(), \"gray\"),\n",
        "        fill=True,\n",
        "        fill_opacity=0.7,\n",
        "        weight=0\n",
        "    ).add_to(m)\n"
      ],
      "metadata": {
        "id": "4_0JVB1sagq0"
      },
      "execution_count": 13,
      "outputs": []
    },
    {
      "cell_type": "code",
      "source": [
        "m.save(\"waterpumps_points.html\")"
      ],
      "metadata": {
        "id": "MbGwSP5ycoK7"
      },
      "execution_count": 14,
      "outputs": []
    },
    {
      "cell_type": "code",
      "source": [
        "from IPython.display import display\n",
        "display(m)"
      ],
      "metadata": {
        "id": "KUHcbNzrdNOU"
      },
      "execution_count": null,
      "outputs": []
    },
    {
      "cell_type": "code",
      "source": [
        "from google.colab import files\n",
        "files.download(\"waterpumps_points.html\")"
      ],
      "metadata": {
        "id": "ZzbYla0deyy8",
        "outputId": "e82eb501-3128-4a00-c880-fef813ad95e2",
        "colab": {
          "base_uri": "https://localhost:8080/",
          "height": 17
        }
      },
      "execution_count": 16,
      "outputs": [
        {
          "output_type": "display_data",
          "data": {
            "text/plain": [
              "<IPython.core.display.Javascript object>"
            ],
            "application/javascript": [
              "\n",
              "    async function download(id, filename, size) {\n",
              "      if (!google.colab.kernel.accessAllowed) {\n",
              "        return;\n",
              "      }\n",
              "      const div = document.createElement('div');\n",
              "      const label = document.createElement('label');\n",
              "      label.textContent = `Downloading \"${filename}\": `;\n",
              "      div.appendChild(label);\n",
              "      const progress = document.createElement('progress');\n",
              "      progress.max = size;\n",
              "      div.appendChild(progress);\n",
              "      document.body.appendChild(div);\n",
              "\n",
              "      const buffers = [];\n",
              "      let downloaded = 0;\n",
              "\n",
              "      const channel = await google.colab.kernel.comms.open(id);\n",
              "      // Send a message to notify the kernel that we're ready.\n",
              "      channel.send({})\n",
              "\n",
              "      for await (const message of channel.messages) {\n",
              "        // Send a message to notify the kernel that we're ready.\n",
              "        channel.send({})\n",
              "        if (message.buffers) {\n",
              "          for (const buffer of message.buffers) {\n",
              "            buffers.push(buffer);\n",
              "            downloaded += buffer.byteLength;\n",
              "            progress.value = downloaded;\n",
              "          }\n",
              "        }\n",
              "      }\n",
              "      const blob = new Blob(buffers, {type: 'application/binary'});\n",
              "      const a = document.createElement('a');\n",
              "      a.href = window.URL.createObjectURL(blob);\n",
              "      a.download = filename;\n",
              "      div.appendChild(a);\n",
              "      a.click();\n",
              "      div.remove();\n",
              "    }\n",
              "  "
            ]
          },
          "metadata": {}
        },
        {
          "output_type": "display_data",
          "data": {
            "text/plain": [
              "<IPython.core.display.Javascript object>"
            ],
            "application/javascript": [
              "download(\"download_5e68f260-9747-4569-b669-a0d76761f136\", \"waterpumps_points.html\", 27597817)"
            ]
          },
          "metadata": {}
        }
      ]
    },
    {
      "cell_type": "code",
      "source": [
        "pump_data_merged[\"status_group\"].unique()"
      ],
      "metadata": {
        "id": "Rg3G-NF5hEC5",
        "outputId": "e941bd1a-082b-4f72-8e37-17f2ebe1005e",
        "colab": {
          "base_uri": "https://localhost:8080/"
        }
      },
      "execution_count": 23,
      "outputs": [
        {
          "output_type": "execute_result",
          "data": {
            "text/plain": [
              "array(['functional', 'non functional', 'functional needs repair'],\n",
              "      dtype=object)"
            ]
          },
          "metadata": {},
          "execution_count": 23
        }
      ]
    },
    {
      "cell_type": "code",
      "source": [
        "# --- inputs you set ---\n",
        "#GEO_PATH   = \"tanzania_regions.geojson\"  # polygons of Tanzania regions\n",
        "#REGION_COL = \"region_name\"               # name field in the GeoJSON that matches your region names\n",
        "#GEO_PATH = \"https://raw.githubusercontent.com/datasets/geo-admin1-us/master/data/tz.geojson\"\n",
        "#REGION_COL = \"region\"\n",
        "# 1) Take your existing DataFrame with columns: region, status_group, latitude, longitude\n",
        "df = pump_data_merged.copy()\n",
        "# 2) Aggregate % functional by region\n",
        "stats = (\n",
        "    df.groupby(\"region\")[\"status_group\"]\n",
        "      .apply(lambda s: (s == \"functional\").mean() * 100.0)\n",
        "      .reset_index(name=\"functional_pct\")\n",
        ")\n",
        "# 3) Build choropleth\n",
        "GEO_PATH = \"https://raw.githubusercontent.com/thadk/GeoTZ/master/TZA_adm1_mkoaTZ.geojson\"  # ADM1 regions\n",
        "REGION_PROP = \"NAME_1\"  # property in that GeoJSON\n",
        "m = folium.Map(location=[-6, 35], zoom_start=6, tiles=\"OpenStreetMap\")\n",
        "folium.Choropleth(\n",
        "    geo_data=GEO_PATH,\n",
        "    data=stats,\n",
        "    columns=[\"region\", \"functional_pct\"],\n",
        "    key_on=f\"feature.properties.{REGION_PROP}\",\n",
        "    fill_color=\"YlGn\",\n",
        "    fill_opacity=0.8,\n",
        "    line_opacity=0.2,\n",
        "    legend_name=\"Functional pumps (%)\",\n",
        ").add_to(m)\n",
        "# 5) Display / Save\n",
        "m  # in Jupyter/Colab\n",
        "# Optional: overlay pump points\n",
        "colors = {\"functional\": \"green\", \"needs repair\": \"yellow\", \"non functional\": \"red\"}\n",
        "points = folium.FeatureGroup(name=\"Waterpumps (points)\", show=False)\n",
        "for _, r in df.dropna(subset=[\"latitude\",\"longitude\"]).iterrows():\n",
        "    folium.CircleMarker([float(r[\"latitude\"]), float(r[\"longitude\"])],\n",
        "                        radius=2.2,\n",
        "                        color=colors.get(str(r[\"status_group\"]).lower(), \"gray\"),\n",
        "                        fill=True, fill_opacity=0.7, weight=0).add_to(points)\n",
        "points.add_to(m)\n",
        "folium.LayerControl(collapsed=False).add_to(m)\n",
        "display(m)\n",
        "m.save(\"tanzania_choropleth.html\")  # open this file in your browser"
      ],
      "metadata": {
        "id": "c4HRGx2Hg7_S"
      },
      "execution_count": null,
      "outputs": []
    },
    {
      "cell_type": "code",
      "source": [],
      "metadata": {
        "id": "GO9Tw5MCmqb8"
      },
      "execution_count": null,
      "outputs": []
    },
    {
      "cell_type": "code",
      "source": [
        "# pip install folium geopandas branca pandas\n",
        "\n",
        "\n",
        "import branca.colormap as cm\n",
        "import json\n",
        "\n",
        "# --- your data ---\n",
        "df = pump_data_merged.copy()  # has: region, status_group, latitude, longitude\n",
        "\n",
        "# --- GeoJSON source (ADM1 regions of Tanzania) ---\n",
        "GEO_PATH    = \"https://raw.githubusercontent.com/thadk/GeoTZ/master/TZA_adm1_mkoaTZ.geojson\"\n",
        "REGION_PROP = \"NAME_1\"  # region name field in that GeoJSON\n",
        "\n",
        "# 1) % functional by region\n",
        "df[\"status_group\"] = df[\"status_group\"].astype(str).str.lower()\n",
        "stats = (\n",
        "    df.groupby(\"region\")[\"status_group\"]\n",
        "      .apply(lambda s: (s == \"functional\").mean() * 100.0)\n",
        "      .reset_index(name=\"functional_pct\")\n",
        ")\n",
        "\n",
        "# 2) load polygons and MERGE stats into the GeoDataFrame\n",
        "regions = gpd.read_file(GEO_PATH).to_crs(\"EPSG:4326\")\n",
        "merged = regions.merge(stats, left_on=REGION_PROP, right_on=\"region\", how=\"left\")\n",
        "\n",
        "# 3) color scale (0..100) red→yellow→green\n",
        "cmap = cm.LinearColormap(colors=[\"#d7191c\", \"#fdae61\", \"#1a9641\"], vmin=0, vmax=100).to_step(10)\n",
        "cmap.caption = \"Functional pumps (%)\"\n",
        "\n",
        "# 4) map\n",
        "m = folium.Map(location=[-6, 35], zoom_start=6, tiles=\"OpenStreetMap\")\n",
        "\n",
        "# 5) style function reading 'functional_pct' directly from merged GeoDataFrame\n",
        "def style_fn(feature):\n",
        "    v = feature[\"properties\"].get(\"functional_pct\", None)\n",
        "    fill = cmap(v) if v is not None else \"#cccccc\"\n",
        "    return {\"fillColor\": fill, \"color\": \"#555555\", \"weight\": 1, \"fillOpacity\": 0.8}\n",
        "\n",
        "gj = folium.GeoJson(\n",
        "    data=json.loads(merged.to_json()),  # safe: serialize GeoDataFrame -> GeoJSON dict\n",
        "    style_function=style_fn,\n",
        "    highlight_function=lambda f: {\"weight\": 2, \"color\": \"#000\", \"fillOpacity\": 0.9},\n",
        "    name=\"Functional % (choropleth)\",\n",
        ")\n",
        "\n",
        "# hover tooltip + click popup\n",
        "folium.GeoJsonTooltip(\n",
        "    fields=[REGION_PROP, \"functional_pct\"],\n",
        "    aliases=[\"Region\", \"Functional %\"],\n",
        "    localize=True,\n",
        "    sticky=False,\n",
        ").add_to(gj)\n",
        "\n",
        "folium.GeoJsonPopup(\n",
        "    fields=[REGION_PROP, \"functional_pct\"],\n",
        "    aliases=[\"Region\", \"Functional %\"],\n",
        "    localize=True,\n",
        "    labels=True,\n",
        ").add_to(gj)\n",
        "\n",
        "gj.add_to(m)\n",
        "cmap.add_to(m)\n",
        "\n",
        "# 6) optional points layer\n",
        "colors = {\"functional\": \"green\", \"needs repair\": \"yellow\", \"non functional\": \"red\"}\n",
        "points = folium.FeatureGroup(name=\"Waterpumps (points)\", show=False)\n",
        "for _, r in df.dropna(subset=[\"latitude\", \"longitude\"]).iterrows():\n",
        "    folium.CircleMarker(\n",
        "        [float(r[\"latitude\"]), float(r[\"longitude\"])],\n",
        "        radius=2.2,\n",
        "        color=colors.get(r[\"status_group\"], \"gray\"),\n",
        "        fill=True, fill_opacity=0.7, weight=0\n",
        "    ).add_to(points)\n",
        "points.add_to(m)\n",
        "\n",
        "folium.LayerControl(collapsed=False).add_to(m)\n",
        "\n",
        "# display / save\n",
        "m\n",
        "display(m)\n",
        "m.save(\"tanzania_choropleth_new.html\")\n"
      ],
      "metadata": {
        "id": "2dJZNr8KnSAe"
      },
      "execution_count": null,
      "outputs": []
    }
  ]
}