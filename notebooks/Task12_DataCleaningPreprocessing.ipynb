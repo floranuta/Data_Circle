{
  "nbformat": 4,
  "nbformat_minor": 0,
  "metadata": {
    "colab": {
      "provenance": [],
      "authorship_tag": "ABX9TyOlCa/9cXp9CEoLnIcayh8E",
      "include_colab_link": true
    },
    "kernelspec": {
      "name": "python3",
      "display_name": "Python 3"
    },
    "language_info": {
      "name": "python"
    }
  },
  "cells": [
    {
      "cell_type": "markdown",
      "metadata": {
        "id": "view-in-github",
        "colab_type": "text"
      },
      "source": [
        "<a href=\"https://colab.research.google.com/github/floranuta/Data_Circle/blob/Tetiana/notebooks/Task12_DataCleaningPreprocessing.ipynb\" target=\"_parent\"><img src=\"https://colab.research.google.com/assets/colab-badge.svg\" alt=\"Open In Colab\"/></a>"
      ]
    },
    {
      "cell_type": "code",
      "execution_count": 1,
      "metadata": {
        "id": "tB_Jx_Um_Bj4"
      },
      "outputs": [],
      "source": [
        "import pandas as pd\n",
        "import numpy as np\n",
        "import matplotlib.pyplot as plt"
      ]
    },
    {
      "cell_type": "code",
      "source": [
        "from google.colab import drive\n",
        "drive.mount('/content/drive')\n",
        "# Path of the file to read\n",
        "#csv_file_path = \"D:/REDI/Data_Circle/data/training_set_values.csv\"\n",
        "csv_file_path = \"/content/drive/MyDrive/Colab Notebooks/training_set_values.csv\"\n",
        "# Fill in the line below to read the file into a variable home_data\n",
        "pump_data = pd.read_csv(csv_file_path)\n"
      ],
      "metadata": {
        "colab": {
          "base_uri": "https://localhost:8080/"
        },
        "id": "RbjNmAD6AQk3",
        "outputId": "3aaf8f07-c17c-417b-a7d0-015b8cd8328b"
      },
      "execution_count": 2,
      "outputs": [
        {
          "output_type": "stream",
          "name": "stdout",
          "text": [
            "Mounted at /content/drive\n"
          ]
        }
      ]
    },
    {
      "cell_type": "code",
      "source": [
        "# Overview\n",
        "def missing_report(df):\n",
        "    missing_count = df.isnull().sum()\n",
        "    missing_percent = 100 * df.isnull().mean()\n",
        "    missing_table = (\n",
        "        pd.DataFrame({\n",
        "            \"MissingCount\": missing_count,\n",
        "            \"MissingPercent\": missing_percent\n",
        "        })\n",
        "        .query(\"MissingCount > 0\")  # оставить только с пропусками\n",
        "        .sort_values(by=\"MissingCount\", ascending=False)\n",
        "    )\n",
        "    return missing_table\n",
        "\n",
        "missing_table = missing_report(pump_data)\n",
        "print(missing_table.to_string())"
      ],
      "metadata": {
        "colab": {
          "base_uri": "https://localhost:8080/"
        },
        "id": "3axp6wmrAgD4",
        "outputId": "241c5500-bee1-488f-8cf5-4dbb34833a4e"
      },
      "execution_count": 7,
      "outputs": [
        {
          "output_type": "stream",
          "name": "stdout",
          "text": [
            "                   MissingCount  MissingPercent\n",
            "scheme_name               28810       48.501684\n",
            "scheme_management          3878        6.528620\n",
            "installer                  3655        6.153199\n",
            "funder                     3637        6.122896\n",
            "public_meeting             3334        5.612795\n",
            "permit                     3056        5.144781\n",
            "subvillage                  371        0.624579\n",
            "wpt_name                      2        0.003367\n"
          ]
        }
      ]
    }
  ]
}